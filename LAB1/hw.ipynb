{
 "cells": [
  {
   "cell_type": "code",
   "execution_count": 4,
   "metadata": {},
   "outputs": [
    {
     "name": "stdout",
     "output_type": "stream",
     "text": [
      "A. Accuracy with 5-fold cross-validation: 0.7213479331126391\n",
      "B1. Accuracy with 70-30 split: 0.8015184381778742\n",
      "B2. Accuracy with 80-20 split: 0.8260162601626017\n"
     ]
    }
   ],
   "source": [
    "import os\n",
    "import pandas as pd\n",
    "import numpy as np\n",
    "from sklearn.model_selection import train_test_split\n",
    "from sklearn.neighbors import KNeighborsClassifier\n",
    "from sklearn.metrics import accuracy_score\n",
    "data_folder = \"./pima-5-fold\"\n",
    "def load_keel_file(file_path):\n",
    "    with open(file_path, 'r') as file:\n",
    "        lines = file.readlines()\n",
    "\n",
    "    data_start = next(i for i, line in enumerate(lines) if \"@data\" in line.lower())\n",
    "    data = pd.read_csv(file_path, skiprows=data_start + 1, header=None)\n",
    "    attribute_lines = [line for line in lines if line.lower().startswith(\"@attribute\")]\n",
    "    column_names = [line.split()[1] for line in attribute_lines]\n",
    "    data.columns = column_names\n",
    "    return data\n",
    "# A. Accuracy using 5-fold cross-validation\n",
    "fold_accuracies = []\n",
    "combined_train_data = []\n",
    "for fold in range(1, 6):\n",
    "    train_file = os.path.join(data_folder, f\"pima-5-{fold}tra.dat\")\n",
    "    test_file = os.path.join(data_folder, f\"pima-5-{fold}tst.dat\")\n",
    "\n",
    "    train_data = load_keel_file(train_file)\n",
    "    test_data = load_keel_file(test_file)\n",
    "\n",
    "    combined_train_data.append(train_data)\n",
    "\n",
    "    X_train, y_train = train_data.iloc[:, :-1], train_data.iloc[:, -1]\n",
    "    X_test, y_test = test_data.iloc[:, :-1], test_data.iloc[:, -1]\n",
    "\n",
    "    knn = KNeighborsClassifier()\n",
    "    knn.fit(X_train, y_train)\n",
    "    y_pred = knn.predict(X_test)\n",
    "    fold_accuracies.append(accuracy_score(y_test, y_pred))\n",
    "\n",
    "accuracy_5cv = np.mean(fold_accuracies)\n",
    "\n",
    "# Combine all\n",
    "combined_train_data = pd.concat(combined_train_data, ignore_index=True)\n",
    "X_all = combined_train_data.iloc[:, :-1]\n",
    "y_all = combined_train_data.iloc[:, -1]\n",
    "\n",
    "# B1. Accuracy for 70-30 split\n",
    "X_train_70, X_test_70, y_train_70, y_test_70 = train_test_split(X_all, y_all, test_size=0.3, random_state=42)\n",
    "knn_70 = KNeighborsClassifier()\n",
    "knn_70.fit(X_train_70, y_train_70)\n",
    "accuracy_7030 = knn_70.score(X_test_70, y_test_70)\n",
    "\n",
    "# B2. Accuracy for 80-20 split\n",
    "X_train_80, X_test_80, y_train_80, y_test_80 = train_test_split(X_all, y_all, test_size=0.2, random_state=42)\n",
    "knn_80 = KNeighborsClassifier()\n",
    "knn_80.fit(X_train_80, y_train_80)\n",
    "accuracy_8020 = knn_80.score(X_test_80, y_test_80)\n",
    "\n",
    "print(f\"A. Accuracy with 5-fold cross-validation: {accuracy_5cv}\")\n",
    "print(f\"B1. Accuracy with 70-30 split: {accuracy_7030}\")\n",
    "print(f\"B2. Accuracy with 80-20 split: {accuracy_8020}\")\n"
   ]
  }
 ],
 "metadata": {
  "kernelspec": {
   "display_name": "base",
   "language": "python",
   "name": "python3"
  },
  "language_info": {
   "codemirror_mode": {
    "name": "ipython",
    "version": 3
   },
   "file_extension": ".py",
   "mimetype": "text/x-python",
   "name": "python",
   "nbconvert_exporter": "python",
   "pygments_lexer": "ipython3",
   "version": "3.11.7"
  }
 },
 "nbformat": 4,
 "nbformat_minor": 2
}
